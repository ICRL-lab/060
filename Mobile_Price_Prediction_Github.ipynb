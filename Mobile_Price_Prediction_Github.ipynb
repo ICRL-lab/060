{
  "nbformat": 4,
  "nbformat_minor": 0,
  "metadata": {
    "colab": {
      "provenance": [],
      "gpuType": "T4"
    },
    "kernelspec": {
      "name": "python3",
      "display_name": "Python 3"
    },
    "language_info": {
      "name": "python"
    },
    "accelerator": "GPU"
  },
  "cells": [
    {
      "cell_type": "code",
      "execution_count": null,
      "metadata": {
        "id": "KASn6HRRug8j"
      },
      "outputs": [],
      "source": [
        "import pandas as pd\n",
        "from sklearn.model_selection import train_test_split\n",
        "from sklearn.preprocessing import StandardScaler, OneHotEncoder\n",
        "from sklearn.impute import SimpleImputer\n",
        "from sklearn.compose import ColumnTransformer\n",
        "from sklearn.pipeline import Pipeline\n",
        "from sklearn.decomposition import PCA\n",
        "from sklearn.ensemble import RandomForestRegressor\n",
        "from sklearn.linear_model import Ridge\n"
      ]
    },
    {
      "cell_type": "code",
      "source": [
        "df = pd.read_csv(\"/content/Mobile-Price-Prediction-cleaned_data.csv\")\n",
        "df.info()"
      ],
      "metadata": {
        "colab": {
          "base_uri": "https://localhost:8080/"
        },
        "id": "sOWSylAAusUH",
        "outputId": "69839719-5b66-4559-b19a-7b2dc7d4807c"
      },
      "execution_count": null,
      "outputs": [
        {
          "output_type": "stream",
          "name": "stdout",
          "text": [
            "<class 'pandas.core.frame.DataFrame'>\n",
            "RangeIndex: 807 entries, 0 to 806\n",
            "Data columns (total 8 columns):\n",
            " #   Column         Non-Null Count  Dtype  \n",
            "---  ------         --------------  -----  \n",
            " 0   Ratings        807 non-null    float64\n",
            " 1   RAM            807 non-null    float64\n",
            " 2   ROM            807 non-null    float64\n",
            " 3   Mobile_Size    807 non-null    float64\n",
            " 4   Primary_Cam    807 non-null    int64  \n",
            " 5   Selfi_Cam      807 non-null    float64\n",
            " 6   Battery_Power  807 non-null    int64  \n",
            " 7   Price          807 non-null    int64  \n",
            "dtypes: float64(5), int64(3)\n",
            "memory usage: 50.6 KB\n"
          ]
        }
      ]
    },
    {
      "cell_type": "code",
      "source": [
        "df.head()"
      ],
      "metadata": {
        "colab": {
          "base_uri": "https://localhost:8080/",
          "height": 206
        },
        "id": "fZoM2At1uyXR",
        "outputId": "9a6cfd3a-ec22-4732-cdd4-c9f2a397334b"
      },
      "execution_count": null,
      "outputs": [
        {
          "output_type": "execute_result",
          "data": {
            "text/plain": [
              "   Ratings  RAM    ROM  Mobile_Size  Primary_Cam  Selfi_Cam  Battery_Power  \\\n",
              "0      4.3  4.0  128.0         6.00           48       13.0           4000   \n",
              "1      3.4  6.0   64.0         4.50           48       12.0           4000   \n",
              "2      4.3  4.0    4.0         4.50           64       16.0           4000   \n",
              "3      4.4  6.0   64.0         6.40           48       15.0           3800   \n",
              "4      4.5  6.0  128.0         6.18           35       15.0           3800   \n",
              "\n",
              "   Price  \n",
              "0  24999  \n",
              "1  15999  \n",
              "2  15000  \n",
              "3  18999  \n",
              "4  18999  "
            ],
            "text/html": [
              "\n",
              "  <div id=\"df-b562a5ba-5599-43f5-af18-612167c4b7f1\" class=\"colab-df-container\">\n",
              "    <div>\n",
              "<style scoped>\n",
              "    .dataframe tbody tr th:only-of-type {\n",
              "        vertical-align: middle;\n",
              "    }\n",
              "\n",
              "    .dataframe tbody tr th {\n",
              "        vertical-align: top;\n",
              "    }\n",
              "\n",
              "    .dataframe thead th {\n",
              "        text-align: right;\n",
              "    }\n",
              "</style>\n",
              "<table border=\"1\" class=\"dataframe\">\n",
              "  <thead>\n",
              "    <tr style=\"text-align: right;\">\n",
              "      <th></th>\n",
              "      <th>Ratings</th>\n",
              "      <th>RAM</th>\n",
              "      <th>ROM</th>\n",
              "      <th>Mobile_Size</th>\n",
              "      <th>Primary_Cam</th>\n",
              "      <th>Selfi_Cam</th>\n",
              "      <th>Battery_Power</th>\n",
              "      <th>Price</th>\n",
              "    </tr>\n",
              "  </thead>\n",
              "  <tbody>\n",
              "    <tr>\n",
              "      <th>0</th>\n",
              "      <td>4.3</td>\n",
              "      <td>4.0</td>\n",
              "      <td>128.0</td>\n",
              "      <td>6.00</td>\n",
              "      <td>48</td>\n",
              "      <td>13.0</td>\n",
              "      <td>4000</td>\n",
              "      <td>24999</td>\n",
              "    </tr>\n",
              "    <tr>\n",
              "      <th>1</th>\n",
              "      <td>3.4</td>\n",
              "      <td>6.0</td>\n",
              "      <td>64.0</td>\n",
              "      <td>4.50</td>\n",
              "      <td>48</td>\n",
              "      <td>12.0</td>\n",
              "      <td>4000</td>\n",
              "      <td>15999</td>\n",
              "    </tr>\n",
              "    <tr>\n",
              "      <th>2</th>\n",
              "      <td>4.3</td>\n",
              "      <td>4.0</td>\n",
              "      <td>4.0</td>\n",
              "      <td>4.50</td>\n",
              "      <td>64</td>\n",
              "      <td>16.0</td>\n",
              "      <td>4000</td>\n",
              "      <td>15000</td>\n",
              "    </tr>\n",
              "    <tr>\n",
              "      <th>3</th>\n",
              "      <td>4.4</td>\n",
              "      <td>6.0</td>\n",
              "      <td>64.0</td>\n",
              "      <td>6.40</td>\n",
              "      <td>48</td>\n",
              "      <td>15.0</td>\n",
              "      <td>3800</td>\n",
              "      <td>18999</td>\n",
              "    </tr>\n",
              "    <tr>\n",
              "      <th>4</th>\n",
              "      <td>4.5</td>\n",
              "      <td>6.0</td>\n",
              "      <td>128.0</td>\n",
              "      <td>6.18</td>\n",
              "      <td>35</td>\n",
              "      <td>15.0</td>\n",
              "      <td>3800</td>\n",
              "      <td>18999</td>\n",
              "    </tr>\n",
              "  </tbody>\n",
              "</table>\n",
              "</div>\n",
              "    <div class=\"colab-df-buttons\">\n",
              "\n",
              "  <div class=\"colab-df-container\">\n",
              "    <button class=\"colab-df-convert\" onclick=\"convertToInteractive('df-b562a5ba-5599-43f5-af18-612167c4b7f1')\"\n",
              "            title=\"Convert this dataframe to an interactive table.\"\n",
              "            style=\"display:none;\">\n",
              "\n",
              "  <svg xmlns=\"http://www.w3.org/2000/svg\" height=\"24px\" viewBox=\"0 -960 960 960\">\n",
              "    <path d=\"M120-120v-720h720v720H120Zm60-500h600v-160H180v160Zm220 220h160v-160H400v160Zm0 220h160v-160H400v160ZM180-400h160v-160H180v160Zm440 0h160v-160H620v160ZM180-180h160v-160H180v160Zm440 0h160v-160H620v160Z\"/>\n",
              "  </svg>\n",
              "    </button>\n",
              "\n",
              "  <style>\n",
              "    .colab-df-container {\n",
              "      display:flex;\n",
              "      gap: 12px;\n",
              "    }\n",
              "\n",
              "    .colab-df-convert {\n",
              "      background-color: #E8F0FE;\n",
              "      border: none;\n",
              "      border-radius: 50%;\n",
              "      cursor: pointer;\n",
              "      display: none;\n",
              "      fill: #1967D2;\n",
              "      height: 32px;\n",
              "      padding: 0 0 0 0;\n",
              "      width: 32px;\n",
              "    }\n",
              "\n",
              "    .colab-df-convert:hover {\n",
              "      background-color: #E2EBFA;\n",
              "      box-shadow: 0px 1px 2px rgba(60, 64, 67, 0.3), 0px 1px 3px 1px rgba(60, 64, 67, 0.15);\n",
              "      fill: #174EA6;\n",
              "    }\n",
              "\n",
              "    .colab-df-buttons div {\n",
              "      margin-bottom: 4px;\n",
              "    }\n",
              "\n",
              "    [theme=dark] .colab-df-convert {\n",
              "      background-color: #3B4455;\n",
              "      fill: #D2E3FC;\n",
              "    }\n",
              "\n",
              "    [theme=dark] .colab-df-convert:hover {\n",
              "      background-color: #434B5C;\n",
              "      box-shadow: 0px 1px 3px 1px rgba(0, 0, 0, 0.15);\n",
              "      filter: drop-shadow(0px 1px 2px rgba(0, 0, 0, 0.3));\n",
              "      fill: #FFFFFF;\n",
              "    }\n",
              "  </style>\n",
              "\n",
              "    <script>\n",
              "      const buttonEl =\n",
              "        document.querySelector('#df-b562a5ba-5599-43f5-af18-612167c4b7f1 button.colab-df-convert');\n",
              "      buttonEl.style.display =\n",
              "        google.colab.kernel.accessAllowed ? 'block' : 'none';\n",
              "\n",
              "      async function convertToInteractive(key) {\n",
              "        const element = document.querySelector('#df-b562a5ba-5599-43f5-af18-612167c4b7f1');\n",
              "        const dataTable =\n",
              "          await google.colab.kernel.invokeFunction('convertToInteractive',\n",
              "                                                    [key], {});\n",
              "        if (!dataTable) return;\n",
              "\n",
              "        const docLinkHtml = 'Like what you see? Visit the ' +\n",
              "          '<a target=\"_blank\" href=https://colab.research.google.com/notebooks/data_table.ipynb>data table notebook</a>'\n",
              "          + ' to learn more about interactive tables.';\n",
              "        element.innerHTML = '';\n",
              "        dataTable['output_type'] = 'display_data';\n",
              "        await google.colab.output.renderOutput(dataTable, element);\n",
              "        const docLink = document.createElement('div');\n",
              "        docLink.innerHTML = docLinkHtml;\n",
              "        element.appendChild(docLink);\n",
              "      }\n",
              "    </script>\n",
              "  </div>\n",
              "\n",
              "\n",
              "<div id=\"df-d84eb672-7985-4ee4-961f-3e7fdf49e522\">\n",
              "  <button class=\"colab-df-quickchart\" onclick=\"quickchart('df-d84eb672-7985-4ee4-961f-3e7fdf49e522')\"\n",
              "            title=\"Suggest charts\"\n",
              "            style=\"display:none;\">\n",
              "\n",
              "<svg xmlns=\"http://www.w3.org/2000/svg\" height=\"24px\"viewBox=\"0 0 24 24\"\n",
              "     width=\"24px\">\n",
              "    <g>\n",
              "        <path d=\"M19 3H5c-1.1 0-2 .9-2 2v14c0 1.1.9 2 2 2h14c1.1 0 2-.9 2-2V5c0-1.1-.9-2-2-2zM9 17H7v-7h2v7zm4 0h-2V7h2v10zm4 0h-2v-4h2v4z\"/>\n",
              "    </g>\n",
              "</svg>\n",
              "  </button>\n",
              "\n",
              "<style>\n",
              "  .colab-df-quickchart {\n",
              "      --bg-color: #E8F0FE;\n",
              "      --fill-color: #1967D2;\n",
              "      --hover-bg-color: #E2EBFA;\n",
              "      --hover-fill-color: #174EA6;\n",
              "      --disabled-fill-color: #AAA;\n",
              "      --disabled-bg-color: #DDD;\n",
              "  }\n",
              "\n",
              "  [theme=dark] .colab-df-quickchart {\n",
              "      --bg-color: #3B4455;\n",
              "      --fill-color: #D2E3FC;\n",
              "      --hover-bg-color: #434B5C;\n",
              "      --hover-fill-color: #FFFFFF;\n",
              "      --disabled-bg-color: #3B4455;\n",
              "      --disabled-fill-color: #666;\n",
              "  }\n",
              "\n",
              "  .colab-df-quickchart {\n",
              "    background-color: var(--bg-color);\n",
              "    border: none;\n",
              "    border-radius: 50%;\n",
              "    cursor: pointer;\n",
              "    display: none;\n",
              "    fill: var(--fill-color);\n",
              "    height: 32px;\n",
              "    padding: 0;\n",
              "    width: 32px;\n",
              "  }\n",
              "\n",
              "  .colab-df-quickchart:hover {\n",
              "    background-color: var(--hover-bg-color);\n",
              "    box-shadow: 0 1px 2px rgba(60, 64, 67, 0.3), 0 1px 3px 1px rgba(60, 64, 67, 0.15);\n",
              "    fill: var(--button-hover-fill-color);\n",
              "  }\n",
              "\n",
              "  .colab-df-quickchart-complete:disabled,\n",
              "  .colab-df-quickchart-complete:disabled:hover {\n",
              "    background-color: var(--disabled-bg-color);\n",
              "    fill: var(--disabled-fill-color);\n",
              "    box-shadow: none;\n",
              "  }\n",
              "\n",
              "  .colab-df-spinner {\n",
              "    border: 2px solid var(--fill-color);\n",
              "    border-color: transparent;\n",
              "    border-bottom-color: var(--fill-color);\n",
              "    animation:\n",
              "      spin 1s steps(1) infinite;\n",
              "  }\n",
              "\n",
              "  @keyframes spin {\n",
              "    0% {\n",
              "      border-color: transparent;\n",
              "      border-bottom-color: var(--fill-color);\n",
              "      border-left-color: var(--fill-color);\n",
              "    }\n",
              "    20% {\n",
              "      border-color: transparent;\n",
              "      border-left-color: var(--fill-color);\n",
              "      border-top-color: var(--fill-color);\n",
              "    }\n",
              "    30% {\n",
              "      border-color: transparent;\n",
              "      border-left-color: var(--fill-color);\n",
              "      border-top-color: var(--fill-color);\n",
              "      border-right-color: var(--fill-color);\n",
              "    }\n",
              "    40% {\n",
              "      border-color: transparent;\n",
              "      border-right-color: var(--fill-color);\n",
              "      border-top-color: var(--fill-color);\n",
              "    }\n",
              "    60% {\n",
              "      border-color: transparent;\n",
              "      border-right-color: var(--fill-color);\n",
              "    }\n",
              "    80% {\n",
              "      border-color: transparent;\n",
              "      border-right-color: var(--fill-color);\n",
              "      border-bottom-color: var(--fill-color);\n",
              "    }\n",
              "    90% {\n",
              "      border-color: transparent;\n",
              "      border-bottom-color: var(--fill-color);\n",
              "    }\n",
              "  }\n",
              "</style>\n",
              "\n",
              "  <script>\n",
              "    async function quickchart(key) {\n",
              "      const quickchartButtonEl =\n",
              "        document.querySelector('#' + key + ' button');\n",
              "      quickchartButtonEl.disabled = true;  // To prevent multiple clicks.\n",
              "      quickchartButtonEl.classList.add('colab-df-spinner');\n",
              "      try {\n",
              "        const charts = await google.colab.kernel.invokeFunction(\n",
              "            'suggestCharts', [key], {});\n",
              "      } catch (error) {\n",
              "        console.error('Error during call to suggestCharts:', error);\n",
              "      }\n",
              "      quickchartButtonEl.classList.remove('colab-df-spinner');\n",
              "      quickchartButtonEl.classList.add('colab-df-quickchart-complete');\n",
              "    }\n",
              "    (() => {\n",
              "      let quickchartButtonEl =\n",
              "        document.querySelector('#df-d84eb672-7985-4ee4-961f-3e7fdf49e522 button');\n",
              "      quickchartButtonEl.style.display =\n",
              "        google.colab.kernel.accessAllowed ? 'block' : 'none';\n",
              "    })();\n",
              "  </script>\n",
              "</div>\n",
              "\n",
              "    </div>\n",
              "  </div>\n"
            ],
            "application/vnd.google.colaboratory.intrinsic+json": {
              "type": "dataframe",
              "variable_name": "df",
              "summary": "{\n  \"name\": \"df\",\n  \"rows\": 807,\n  \"fields\": [\n    {\n      \"column\": \"Ratings\",\n      \"properties\": {\n        \"dtype\": \"number\",\n        \"std\": 0.36783026561361526,\n        \"min\": 2.8,\n        \"max\": 4.8,\n        \"num_unique_values\": 20,\n        \"samples\": [\n          4.3,\n          3.1,\n          3.3\n        ],\n        \"semantic_type\": \"\",\n        \"description\": \"\"\n      }\n    },\n    {\n      \"column\": \"RAM\",\n      \"properties\": {\n        \"dtype\": \"number\",\n        \"std\": 2.0563593492877934,\n        \"min\": 0.0,\n        \"max\": 12.0,\n        \"num_unique_values\": 10,\n        \"samples\": [\n          5.0,\n          6.0,\n          3.0\n        ],\n        \"semantic_type\": \"\",\n        \"description\": \"\"\n      }\n    },\n    {\n      \"column\": \"ROM\",\n      \"properties\": {\n        \"dtype\": \"number\",\n        \"std\": 53.86862574324767,\n        \"min\": 2.0,\n        \"max\": 256.0,\n        \"num_unique_values\": 20,\n        \"samples\": [\n          128.0,\n          35.0,\n          15.0\n        ],\n        \"semantic_type\": \"\",\n        \"description\": \"\"\n      }\n    },\n    {\n      \"column\": \"Mobile_Size\",\n      \"properties\": {\n        \"dtype\": \"number\",\n        \"std\": 3.957408580894854,\n        \"min\": 2.0,\n        \"max\": 44.0,\n        \"num_unique_values\": 47,\n        \"samples\": [\n          4.57,\n          7.0,\n          4.58\n        ],\n        \"semantic_type\": \"\",\n        \"description\": \"\"\n      }\n    },\n    {\n      \"column\": \"Primary_Cam\",\n      \"properties\": {\n        \"dtype\": \"number\",\n        \"std\": 11,\n        \"min\": 5,\n        \"max\": 64,\n        \"num_unique_values\": 11,\n        \"samples\": [\n          25,\n          48,\n          16\n        ],\n        \"semantic_type\": \"\",\n        \"description\": \"\"\n      }\n    },\n    {\n      \"column\": \"Selfi_Cam\",\n      \"properties\": {\n        \"dtype\": \"number\",\n        \"std\": 4.547253530938938,\n        \"min\": 0.0,\n        \"max\": 23.0,\n        \"num_unique_values\": 21,\n        \"samples\": [\n          13.0,\n          4.0,\n          10.0\n        ],\n        \"semantic_type\": \"\",\n        \"description\": \"\"\n      }\n    },\n    {\n      \"column\": \"Battery_Power\",\n      \"properties\": {\n        \"dtype\": \"number\",\n        \"std\": 937,\n        \"min\": 1020,\n        \"max\": 6000,\n        \"num_unique_values\": 49,\n        \"samples\": [\n          4010,\n          3400,\n          4780\n        ],\n        \"semantic_type\": \"\",\n        \"description\": \"\"\n      }\n    },\n    {\n      \"column\": \"Price\",\n      \"properties\": {\n        \"dtype\": \"number\",\n        \"std\": 23092,\n        \"min\": 479,\n        \"max\": 153000,\n        \"num_unique_values\": 241,\n        \"samples\": [\n          927,\n          47999,\n          25250\n        ],\n        \"semantic_type\": \"\",\n        \"description\": \"\"\n      }\n    }\n  ]\n}"
            }
          },
          "metadata": {},
          "execution_count": 22
        }
      ]
    },
    {
      "cell_type": "code",
      "source": [
        "df.columns"
      ],
      "metadata": {
        "colab": {
          "base_uri": "https://localhost:8080/"
        },
        "id": "Zc0YQg84u0CL",
        "outputId": "f97608fd-d273-4850-ce76-611dcd777275"
      },
      "execution_count": null,
      "outputs": [
        {
          "output_type": "execute_result",
          "data": {
            "text/plain": [
              "Index(['Ratings', 'RAM', 'ROM', 'Mobile_Size', 'Primary_Cam', 'Selfi_Cam',\n",
              "       'Battery_Power', 'Price'],\n",
              "      dtype='object')"
            ]
          },
          "metadata": {},
          "execution_count": 23
        }
      ]
    },
    {
      "cell_type": "code",
      "source": [
        "X = df.drop(columns = [\"Price\"])\n",
        "y = df[\"Price\"]"
      ],
      "metadata": {
        "id": "n5yLBM3Nu3Rt"
      },
      "execution_count": null,
      "outputs": []
    },
    {
      "cell_type": "code",
      "source": [
        "print(df.isnull().sum())"
      ],
      "metadata": {
        "colab": {
          "base_uri": "https://localhost:8080/"
        },
        "id": "vunfq8iVu9m1",
        "outputId": "b44f86b0-df92-4bdb-8ae5-00cb64c64804"
      },
      "execution_count": null,
      "outputs": [
        {
          "output_type": "stream",
          "name": "stdout",
          "text": [
            "Ratings          0\n",
            "RAM              0\n",
            "ROM              0\n",
            "Mobile_Size      0\n",
            "Primary_Cam      0\n",
            "Selfi_Cam        0\n",
            "Battery_Power    0\n",
            "Price            0\n",
            "dtype: int64\n"
          ]
        }
      ]
    },
    {
      "cell_type": "code",
      "source": [
        "# Define preprocessing for numerical and categorical features\n",
        "numeric_features = X.select_dtypes(include=['int64', 'float64']).columns\n",
        "categorical_features = X.select_dtypes(include=['object']).columns\n",
        "\n",
        "numeric_transformer = Pipeline(steps=[\n",
        "    ('imputer', SimpleImputer(strategy='mean')),\n",
        "    ('scaler', StandardScaler())\n",
        "])\n",
        "\n",
        "categorical_transformer = Pipeline(steps=[\n",
        "    ('imputer', SimpleImputer(strategy='most_frequent')),\n",
        "    ('onehot', OneHotEncoder(handle_unknown='ignore'))\n",
        "])\n",
        "\n",
        "preprocessor = ColumnTransformer(\n",
        "    transformers=[\n",
        "        ('num', numeric_transformer, numeric_features),\n",
        "        ('cat', categorical_transformer, categorical_features)\n",
        "    ])"
      ],
      "metadata": {
        "id": "E6IW-yhovmHk"
      },
      "execution_count": null,
      "outputs": []
    },
    {
      "cell_type": "code",
      "source": [
        "# Split data into training and testing sets\n",
        "X_train, X_test, y_train, y_test = train_test_split(X, y, test_size=0.2, random_state=42)"
      ],
      "metadata": {
        "id": "dpX7eHfZsOGT"
      },
      "execution_count": null,
      "outputs": []
    },
    {
      "cell_type": "code",
      "source": [
        "# Create and train the model pipeline\n",
        "model = Pipeline(steps=[\n",
        "    ('preprocessor', preprocessor),\n",
        "    ('pca', PCA(n_components=5)),  # Adjust the number of components as needed\n",
        "    ('regressor', Ridge())  # Change to your chosen model\n",
        "])\n",
        "\n",
        "model.fit(X_train, y_train)\n",
        "\n",
        "# Evaluate the model\n",
        "train_score = model.score(X_train, y_train)\n",
        "test_score = model.score(X_test, y_test)\n",
        "\n",
        "print(f'Train Score: {train_score}')\n",
        "print(f'Test Score: {test_score}')"
      ],
      "metadata": {
        "colab": {
          "base_uri": "https://localhost:8080/"
        },
        "id": "zowHlbmqvF60",
        "outputId": "7e2b6f9e-c15d-4af8-acfd-347bdef533b9"
      },
      "execution_count": null,
      "outputs": [
        {
          "output_type": "stream",
          "name": "stdout",
          "text": [
            "Train Score: 0.43663533636893204\n",
            "Test Score: 0.4277453378319048\n"
          ]
        }
      ]
    },
    {
      "cell_type": "code",
      "source": [
        "# Make predictions\n",
        "y_pred_train = model.predict(X_train)\n",
        "y_pred_test = model.predict(X_test)"
      ],
      "metadata": {
        "id": "9G-ZqeM7ylI6"
      },
      "execution_count": null,
      "outputs": []
    },
    {
      "cell_type": "code",
      "source": [
        "from sklearn.metrics import mean_absolute_error, mean_squared_error, r2_score\n",
        "\n",
        "mae_train = mean_absolute_error(y_train, y_pred_train)\n",
        "mse_train = mean_squared_error(y_train, y_pred_train)\n",
        "r2_train = r2_score(y_train, y_pred_train)\n",
        "\n",
        "mae_test = mean_absolute_error(y_test, y_pred_test)\n",
        "mse_test = mean_squared_error(y_test, y_pred_test)\n",
        "r2_test = r2_score(y_test, y_pred_test)\n",
        "\n",
        "print(f'Training MAE: {mae_train}')\n",
        "print(f'Training MSE: {mse_train}')\n",
        "print(f'Training R²: {r2_train}')\n",
        "print(f'Testing MAE: {mae_test}')\n",
        "print(f'Testing MSE: {mse_test}')\n",
        "print(f'Testing R²: {r2_test}')"
      ],
      "metadata": {
        "colab": {
          "base_uri": "https://localhost:8080/"
        },
        "id": "gvIAl9ljwpAn",
        "outputId": "e7c7cc04-5bf4-442a-9237-9bcb3d063a46"
      },
      "execution_count": null,
      "outputs": [
        {
          "output_type": "stream",
          "name": "stdout",
          "text": [
            "Training MAE: 9904.482437841067\n",
            "Training MSE: 315661433.37510943\n",
            "Training R²: 0.43663533636893204\n",
            "Testing MAE: 9847.16949480603\n",
            "Testing MSE: 241673140.4472942\n",
            "Testing R²: 0.4277453378319048\n"
          ]
        }
      ]
    },
    {
      "cell_type": "code",
      "source": [],
      "metadata": {
        "id": "Djo5b-DnJvD6"
      },
      "execution_count": null,
      "outputs": []
    },
    {
      "cell_type": "code",
      "source": [
        "from sklearn.linear_model import Ridge, LinearRegression, Lasso\n",
        "from sklearn.tree import DecisionTreeRegressor\n",
        "from sklearn.ensemble import RandomForestRegressor\n",
        "from sklearn.svm import SVR\n",
        "\n",
        "# Define a dictionary of regressors\n",
        "regressors = {\n",
        "    'Linear Regression': LinearRegression(),\n",
        "    'Ridge Regression': Ridge(),\n",
        "    'Lasso Regression': Lasso(),\n",
        "    'Decision Tree': DecisionTreeRegressor(),\n",
        "    'Random Forest': RandomForestRegressor(),\n",
        "    'Support Vector Regression': SVR()\n",
        "}\n"
      ],
      "metadata": {
        "id": "3sttjdvWzaff"
      },
      "execution_count": null,
      "outputs": []
    },
    {
      "cell_type": "code",
      "source": [
        "results = []\n",
        "\n",
        "for name, regressor in regressors.items():\n",
        "    model = Pipeline(steps=[\n",
        "        ('preprocessor', preprocessor),\n",
        "        ('dim_reduction', PCA(n_components=5)),  # Adjust n_components as needed\n",
        "        ('regressor', regressor)\n",
        "    ])\n",
        "\n",
        "    # Fit the model\n",
        "    model.fit(X_train, y_train)\n",
        "\n",
        "    # Make predictions\n",
        "    y_pred_train = model.predict(X_train)\n",
        "    y_pred_test = model.predict(X_test)\n",
        "\n",
        "    # Calculate metrics\n",
        "    mae_train = mean_absolute_error(y_train, y_pred_train)\n",
        "    mse_train = mean_squared_error(y_train, y_pred_train)\n",
        "    r2_train = r2_score(y_train, y_pred_train)\n",
        "\n",
        "    mae_test = mean_absolute_error(y_test, y_pred_test)\n",
        "    mse_test = mean_squared_error(y_test, y_pred_test)\n",
        "    r2_test = r2_score(y_test, y_pred_test)\n",
        "\n",
        "    # Store the results\n",
        "    results.append({\n",
        "        'Model': name,\n",
        "        'Train MAE': mae_train,\n",
        "        'Train MSE': mse_train,\n",
        "        'Train R²': r2_train,\n",
        "        'Test MAE': mae_test,\n",
        "        'Test MSE': mse_test,\n",
        "        'Test R²': r2_test\n",
        "    })\n",
        "\n",
        "# Convert results to DataFrame for better visualization\n",
        "results_df = pd.DataFrame(results)\n",
        "print(results_df)"
      ],
      "metadata": {
        "colab": {
          "base_uri": "https://localhost:8080/"
        },
        "id": "XMJ7u4xMKqZ0",
        "outputId": "2a6d852c-4a59-41d8-eb6d-bc0ebd40205c"
      },
      "execution_count": null,
      "outputs": [
        {
          "output_type": "stream",
          "name": "stdout",
          "text": [
            "                       Model     Train MAE     Train MSE  Train R²  \\\n",
            "0          Linear Regression   9907.580107  3.156612e+08  0.436636   \n",
            "1           Ridge Regression   9904.482438  3.156614e+08  0.436635   \n",
            "2           Lasso Regression   9907.228152  3.156612e+08  0.436636   \n",
            "3              Decision Tree    140.963307  1.229908e+06  0.997805   \n",
            "4              Random Forest   1181.696248  1.514072e+07  0.972978   \n",
            "5  Support Vector Regression  13216.376798  7.158032e+08 -0.277502   \n",
            "\n",
            "       Test MAE      Test MSE   Test R²  \n",
            "0   9851.451515  2.417556e+08  0.427550  \n",
            "1   9847.169495  2.416731e+08  0.427745  \n",
            "2   9851.053728  2.417464e+08  0.427572  \n",
            "3   2785.718004  6.822308e+07  0.838455  \n",
            "4   3768.214388  8.698394e+07  0.794032  \n",
            "5  13031.220584  5.756872e+08 -0.363162  \n"
          ]
        }
      ]
    },
    {
      "cell_type": "code",
      "source": [
        "# Optional: Plot the results for better visualization\n",
        "import matplotlib.pyplot as plt\n",
        "\n",
        "fig, ax = plt.subplots(1, 3, figsize=(18, 5))\n",
        "\n",
        "# MAE Plot\n",
        "results_df.plot(kind='bar', x='Model', y=['Train MAE', 'Test MAE'], ax=ax[0], color=['skyblue', 'orange'], legend=True)\n",
        "ax[0].set_title('Mean Absolute Error (MAE)')\n",
        "ax[0].set_ylabel('MAE')\n",
        "\n",
        "# MSE Plot\n",
        "results_df.plot(kind='bar', x='Model', y=['Train MSE', 'Test MSE'], ax=ax[1], color=['skyblue', 'orange'], legend=True)\n",
        "ax[1].set_title('Mean Squared Error (MSE)')\n",
        "ax[1].set_ylabel('MSE')\n",
        "\n",
        "# R² Plot\n",
        "results_df.plot(kind='bar', x='Model', y=['Train R²', 'Test R²'], ax=ax[2], color=['skyblue', 'orange'], legend=True)\n",
        "ax[2].set_title('R² Score')\n",
        "ax[2].set_ylabel('R²')\n",
        "\n",
        "plt.tight_layout()\n",
        "plt.show()"
      ],
      "metadata": {
        "colab": {
          "base_uri": "https://localhost:8080/",
          "height": 275
        },
        "id": "RvsQ4D6GRHdZ",
        "outputId": "e36f0557-4e9f-4c07-ba00-c9a36734c1b9"
      },
      "execution_count": null,
      "outputs": [
        {
          "output_type": "display_data",
          "data": {
            "text/plain": [
              "<Figure size 1800x500 with 3 Axes>"
            ],
            "image/png": "[encoded data removed]"
          },
          "metadata": {}
        }
      ]
    },
    {
      "cell_type": "code",
      "source": [
        "import numpy as np\n",
        "import pandas as pd\n",
        "\n",
        "# Assuming X_test and y_test are pandas DataFrame or Series\n",
        "# Randomly select 5 indices from the test set\n",
        "random_indices = np.random.choice(len(X_test), size=5, replace=False)\n",
        "\n",
        "# Extract the selected samples and their actual values using iloc\n",
        "X_random_samples = X_test.iloc[random_indices]\n",
        "y_random_actuals = y_test.iloc[random_indices]\n",
        "\n",
        "# Initialize a dictionary to store predictions\n",
        "predictions = {'Model': [], 'Predictions': [], 'Actuals': []}\n",
        "\n",
        "for name, regressor in regressors.items():\n",
        "    model = Pipeline(steps=[\n",
        "        ('preprocessor', preprocessor),\n",
        "        ('dim_reduction', PCA(n_components=5)),  # Adjust n_components as needed\n",
        "        ('regressor', regressor)\n",
        "    ])\n",
        "\n",
        "    # Fit the model\n",
        "    model.fit(X_train, y_train)\n",
        "\n",
        "    # Make predictions for the random samples\n",
        "    y_pred_random = model.predict(X_random_samples)\n",
        "\n",
        "    # Store predictions\n",
        "    predictions['Model'].append(name)\n",
        "    predictions['Predictions'].append(y_pred_random)\n",
        "    predictions['Actuals'].append(y_random_actuals.values)\n",
        "\n",
        "# Convert predictions to DataFrame for better visualization\n",
        "predictions_df = pd.DataFrame(predictions)\n",
        "print(predictions_df)\n",
        "\n",
        "# Optional: Display results in a more readable format\n",
        "for i in range(len(predictions['Model'])):\n",
        "    print(f\"\\nModel: {predictions['Model'][i]}\")\n",
        "    for j in range(5):\n",
        "        print(f\"Sample {j+1} - Predicted: {predictions['Predictions'][i][j]:.2f}, Actual: {predictions['Actuals'][i][j]:.2f}\")\n"
      ],
      "metadata": {
        "colab": {
          "base_uri": "https://localhost:8080/"
        },
        "id": "3YPkRYGpKvsU",
        "outputId": "568b95f9-f55d-44f2-a0c6-1698a809dc4e"
      },
      "execution_count": null,
      "outputs": [
        {
          "output_type": "stream",
          "name": "stdout",
          "text": [
            "                       Model  \\\n",
            "0          Linear Regression   \n",
            "1           Ridge Regression   \n",
            "2           Lasso Regression   \n",
            "3              Decision Tree   \n",
            "4              Random Forest   \n",
            "5  Support Vector Regression   \n",
            "\n",
            "                                         Predictions  \\\n",
            "0  [8400.81278641681, -7087.0652852065505, -1629....   \n",
            "1  [8405.597010963356, -7065.37416484335, -1610.4...   \n",
            "2  [8401.02313300555, -7083.495214365525, -1627.5...   \n",
            "3           [951.0, 799.0, 1089.0, 13999.0, 16990.0]   \n",
            "4  [979.487047619048, 1227.172146103896, 1288.980...   \n",
            "5  [1682.8811352296075, 1734.6761245083371, 1666....   \n",
            "\n",
            "                          Actuals  \n",
            "0  [985, 799, 1089, 13999, 16990]  \n",
            "1  [985, 799, 1089, 13999, 16990]  \n",
            "2  [985, 799, 1089, 13999, 16990]  \n",
            "3  [985, 799, 1089, 13999, 16990]  \n",
            "4  [985, 799, 1089, 13999, 16990]  \n",
            "5  [985, 799, 1089, 13999, 16990]  \n",
            "\n",
            "Model: Linear Regression\n",
            "Sample 1 - Predicted: 8400.81, Actual: 985.00\n",
            "Sample 2 - Predicted: -7087.07, Actual: 799.00\n",
            "Sample 3 - Predicted: -1629.26, Actual: 1089.00\n",
            "Sample 4 - Predicted: 27019.77, Actual: 13999.00\n",
            "Sample 5 - Predicted: 30516.20, Actual: 16990.00\n",
            "\n",
            "Model: Ridge Regression\n",
            "Sample 1 - Predicted: 8405.60, Actual: 985.00\n",
            "Sample 2 - Predicted: -7065.37, Actual: 799.00\n",
            "Sample 3 - Predicted: -1610.49, Actual: 1089.00\n",
            "Sample 4 - Predicted: 27007.54, Actual: 13999.00\n",
            "Sample 5 - Predicted: 30507.15, Actual: 16990.00\n",
            "\n",
            "Model: Lasso Regression\n",
            "Sample 1 - Predicted: 8401.02, Actual: 985.00\n",
            "Sample 2 - Predicted: -7083.50, Actual: 799.00\n",
            "Sample 3 - Predicted: -1627.53, Actual: 1089.00\n",
            "Sample 4 - Predicted: 27019.04, Actual: 13999.00\n",
            "Sample 5 - Predicted: 30516.95, Actual: 16990.00\n",
            "\n",
            "Model: Decision Tree\n",
            "Sample 1 - Predicted: 951.00, Actual: 985.00\n",
            "Sample 2 - Predicted: 799.00, Actual: 799.00\n",
            "Sample 3 - Predicted: 1089.00, Actual: 1089.00\n",
            "Sample 4 - Predicted: 13999.00, Actual: 13999.00\n",
            "Sample 5 - Predicted: 16990.00, Actual: 16990.00\n",
            "\n",
            "Model: Random Forest\n",
            "Sample 1 - Predicted: 979.49, Actual: 985.00\n",
            "Sample 2 - Predicted: 1227.17, Actual: 799.00\n",
            "Sample 3 - Predicted: 1288.98, Actual: 1089.00\n",
            "Sample 4 - Predicted: 14577.43, Actual: 13999.00\n",
            "Sample 5 - Predicted: 16041.02, Actual: 16990.00\n",
            "\n",
            "Model: Support Vector Regression\n",
            "Sample 1 - Predicted: 1682.88, Actual: 985.00\n",
            "Sample 2 - Predicted: 1734.68, Actual: 799.00\n",
            "Sample 3 - Predicted: 1666.58, Actual: 1089.00\n",
            "Sample 4 - Predicted: 1826.23, Actual: 13999.00\n",
            "Sample 5 - Predicted: 1847.10, Actual: 16990.00\n"
          ]
        }
      ]
    },
    {
      "cell_type": "code",
      "source": [],
      "metadata": {
        "id": "TSBKg3qSRDoX"
      },
      "execution_count": null,
      "outputs": []
    },
    {
      "cell_type": "code",
      "source": [
        "import torch\n",
        "\n",
        "device = 'cuda' if torch.cuda.is_available() else 'cpu'\n",
        "X_test = torch.tensor(X_test.values).to(device)\n",
        "y_test = torch.tensor(y_test.values).to(device)\n",
        "X_train = torch.tensor(X_train.values).to(device)\n",
        "y_train = torch.tensor(y_train.values).to(device)"
      ],
      "metadata": {
        "id": "9bIK74T4swO3"
      },
      "execution_count": null,
      "outputs": []
    },
    {
      "cell_type": "code",
      "source": [
        "X_test.shape, y_test.shape, X_train.shape, y_train.shape"
      ],
      "metadata": {
        "colab": {
          "base_uri": "https://localhost:8080/"
        },
        "id": "NI2AYtZqxEwo",
        "outputId": "97e3623d-3f1b-4551-d582-6fa14abef324"
      },
      "execution_count": null,
      "outputs": [
        {
          "output_type": "execute_result",
          "data": {
            "text/plain": [
              "(torch.Size([162, 7]),\n",
              " torch.Size([162]),\n",
              " torch.Size([645, 7]),\n",
              " torch.Size([645]))"
            ]
          },
          "metadata": {},
          "execution_count": 10
        }
      ]
    },
    {
      "cell_type": "code",
      "source": [
        "print(\"X_train shape:\", X_train.shape, \"dtype:\", X_train.dtype)\n",
        "print(\"y_train shape:\", y_train.shape, \"dtype:\", y_train.dtype)\n",
        "print(\"X_test shape:\", X_test.shape, \"dtype:\", X_test.dtype)\n",
        "print(\"y_test shape:\", y_test.shape, \"dtype:\", y_test.dtype)\n"
      ],
      "metadata": {
        "colab": {
          "base_uri": "https://localhost:8080/"
        },
        "id": "e57zOO4M1sy8",
        "outputId": "f1d9b858-6afb-465b-cb02-7f1fcab5adf4"
      },
      "execution_count": null,
      "outputs": [
        {
          "output_type": "stream",
          "name": "stdout",
          "text": [
            "X_train shape: torch.Size([645, 7]) dtype: torch.float32\n",
            "y_train shape: torch.Size([645]) dtype: torch.float32\n",
            "X_test shape: torch.Size([162, 7]) dtype: torch.float32\n",
            "y_test shape: torch.Size([162]) dtype: torch.float32\n"
          ]
        }
      ]
    },
    {
      "cell_type": "code",
      "source": [
        "X_train = X_train.float()  # Convert X_train to float32\n",
        "y_train = y_train.float()  # Convert y_train to float32\n",
        "X_test = X_test.float()    # Convert X_test to float32\n",
        "y_test = y_test.float()    # Convert y_test to float32\n"
      ],
      "metadata": {
        "id": "DlZ-zgYx13iK"
      },
      "execution_count": null,
      "outputs": []
    },
    {
      "cell_type": "code",
      "source": [
        "import torch\n",
        "import torch.nn as nn\n",
        "import torch.nn.functional as F\n",
        "\n",
        "class LargerRegressor(nn.Module):\n",
        "    def __init__(self, input_size):\n",
        "        super(LargerRegressor, self).__init__()\n",
        "        self.fc1 = nn.Linear(input_size, 256)  # Further increased the number of neurons\n",
        "        self.fc2 = nn.Linear(256, 128)         # Larger hidden layer\n",
        "        self.fc3 = nn.Linear(128, 64)\n",
        "        self.fc4 = nn.Linear(64, 32)\n",
        "        self.fc5 = nn.Linear(32, 16)           # Added another layer\n",
        "        self.fc6 = nn.Linear(16, 1)            # Final output layer\n",
        "\n",
        "    def forward(self, x):\n",
        "        x = F.relu(self.fc1(x))               # ReLU activation function\n",
        "        x = F.relu(self.fc2(x))\n",
        "        x = F.relu(self.fc3(x))\n",
        "        x = F.relu(self.fc4(x))\n",
        "        x = F.relu(self.fc5(x))\n",
        "        x = self.fc6(x)\n",
        "        return x\n",
        "\n",
        "# Initialize the model\n",
        "input_size = X_train.shape[1]  # Number of features (7 in this case)\n",
        "model = LargerRegressor(input_size).to(device)"
      ],
      "metadata": {
        "id": "yOZ6Awyp70mB"
      },
      "execution_count": null,
      "outputs": []
    },
    {
      "cell_type": "code",
      "source": [
        "import torch.optim as optim\n",
        "loss_func = nn.MSELoss()\n",
        "opt = optim.Adam(model.parameters(), lr=0.001)"
      ],
      "metadata": {
        "id": "6NAPOKvG0o2j"
      },
      "execution_count": null,
      "outputs": []
    },
    {
      "cell_type": "code",
      "source": [
        "num_epochs = 10000\n",
        "loss_history = []\n",
        "\n",
        "# Convert y_train and y_test to the correct shape (if necessary)\n",
        "y_train = y_train.view(-1, 1).float().to(device)\n",
        "y_test = y_test.view(-1, 1).float().to(device)\n",
        "\n",
        "for epoch in range(num_epochs):\n",
        "    model.train()\n",
        "\n",
        "\n",
        "    # Forward pass\n",
        "    predictions = model(X_train)\n",
        "    loss = loss_func(predictions, y_train)\n",
        "\n",
        "    # Backward pass and optimization\n",
        "    opt.zero_grad()\n",
        "    loss.backward()\n",
        "    opt.step()\n",
        "\n",
        "    # Store the loss value\n",
        "    loss_history.append(loss.item())\n",
        "\n",
        "    # Print loss every 100 epochs\n",
        "    if epoch % 1000 == 0:\n",
        "        print(f\"Epoch [{epoch}/{num_epochs}], Loss: {loss.item():.4f}\")\n",
        "\n",
        "# Optional: Plot the loss history\n",
        "import matplotlib.pyplot as plt\n",
        "\n",
        "plt.plot(loss_history)\n",
        "plt.xlabel('Epoch')\n",
        "plt.ylabel('Loss')\n",
        "plt.title('Training Loss History')\n",
        "plt.show()"
      ],
      "metadata": {
        "colab": {
          "base_uri": "https://localhost:8080/",
          "height": 646
        },
        "id": "tIT8qS1Q_lBp",
        "outputId": "e8529a2e-bdcf-46bb-c848-2e92ae9a0012"
      },
      "execution_count": null,
      "outputs": [
        {
          "output_type": "stream",
          "name": "stdout",
          "text": [
            "Epoch [0/10000], Loss: 764356416.0000\n",
            "Epoch [1000/10000], Loss: 328666880.0000\n",
            "Epoch [2000/10000], Loss: 262438096.0000\n",
            "Epoch [3000/10000], Loss: 206120240.0000\n",
            "Epoch [4000/10000], Loss: 184709744.0000\n",
            "Epoch [5000/10000], Loss: 169966720.0000\n",
            "Epoch [6000/10000], Loss: 154990704.0000\n",
            "Epoch [7000/10000], Loss: 145983008.0000\n",
            "Epoch [8000/10000], Loss: 130933184.0000\n",
            "Epoch [9000/10000], Loss: 119898648.0000\n"
          ]
        },
        {
          "output_type": "display_data",
          "data": {
            "text/plain": [
              "<Figure size 640x480 with 1 Axes>"
            ],
            "image/png": "[encoded data removed]"
          },
          "metadata": {}
        }
      ]
    },
    {
      "cell_type": "code",
      "source": [
        "model.eval()\n",
        "with torch.no_grad():\n",
        "    test_predictions = model(X_test)\n",
        "    test_loss = loss_func(test_predictions, y_test)\n",
        "\n",
        "    # Calculate additional metrics\n",
        "    mae_test = torch.mean(torch.abs(test_predictions - y_test)).item()\n",
        "    mse_test = test_loss.item()\n",
        "    r2_test = 1 - mse_test / torch.var(y_test).item()\n",
        "\n",
        "print(f\"Test Data Metrics:\\nMAE: {mae_test:.4f}\\nMSE: {mse_test:.4f}\\nR2 Score: {r2_test:.4f}\")"
      ],
      "metadata": {
        "colab": {
          "base_uri": "https://localhost:8080/"
        },
        "id": "gGJLuk_VBCNG",
        "outputId": "95b7246d-fe93-4fd4-ef6e-d858f5f910fc"
      },
      "execution_count": null,
      "outputs": [
        {
          "output_type": "stream",
          "name": "stdout",
          "text": [
            "Test Data Metrics:\n",
            "MAE: 5822.8037\n",
            "MSE: 100609104.0000\n",
            "R2 Score: 0.7632\n"
          ]
        }
      ]
    },
    {
      "cell_type": "code",
      "source": [
        "model.eval()\n",
        "with torch.no_grad():\n",
        "    sample_idx = torch.randint(0, X_test.size(0), (5,))  # Randomly pick 5 samples\n",
        "    sample_data = X_test[sample_idx]\n",
        "    sample_predictions = model(sample_data).cpu().numpy()\n",
        "    sample_actuals = y_test[sample_idx].cpu().numpy()\n",
        "\n",
        "    print(\"\\nSample Predictions vs Actuals:\")\n",
        "    for i in range(len(sample_idx)):\n",
        "        print(f\"Sample {i+1} - Predicted: {sample_predictions[i][0]:.2f}, Actual: {sample_actuals[i][0]:.2f}\")"
      ],
      "metadata": {
        "colab": {
          "base_uri": "https://localhost:8080/"
        },
        "id": "6sedwRZmIudZ",
        "outputId": "57a8fbc1-3749-49a3-f0fb-64d61c6d8106"
      },
      "execution_count": null,
      "outputs": [
        {
          "output_type": "stream",
          "name": "stdout",
          "text": [
            "\n",
            "Sample Predictions vs Actuals:\n",
            "Sample 1 - Predicted: 882.45, Actual: 639.00\n",
            "Sample 2 - Predicted: 26043.61, Actual: 9999.00\n",
            "Sample 3 - Predicted: 3697.69, Actual: 1049.00\n",
            "Sample 4 - Predicted: 2133.74, Actual: 15000.00\n",
            "Sample 5 - Predicted: 1877.00, Actual: 1349.00\n"
          ]
        }
      ]
    }
  ]
}